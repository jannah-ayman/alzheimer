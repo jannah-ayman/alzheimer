{
 "cells": [
  {
   "cell_type": "code",
   "execution_count": 56,
   "id": "17cccc5c-3911-4117-889a-402fade70633",
   "metadata": {},
   "outputs": [
    {
     "name": "stdout",
     "output_type": "stream",
     "text": [
      "Accuracy: 71.16%\n"
     ]
    }
   ],
   "source": [
    "import pandas as pd\n",
    "from sklearn.model_selection import train_test_split\n",
    "from sklearn.naive_bayes import GaussianNB\n",
    "\n",
    "data = pd.read_csv('alzheimers_disease_data.csv')\n",
    "\n",
    "features = data.drop(['Diagnosis', 'PatientID','DoctorInCharge'], axis=1)  \n",
    "target = data['Diagnosis']\n",
    "\n",
    "X_train, X_test, y_train, y_test = train_test_split(features, target, test_size=0.2, random_state=42, stratify=target)\n",
    "\n",
    "model = GaussianNB()  # simple default value\n",
    "model.fit(X_train, y_train)\n",
    "\n",
    "y_predict = model.predict(X_test)\n",
    "trainscore = model.score(X_train, y_train)\n",
    "testscore = model.score(X_test, y_test)\n",
    "\n",
    "print(\"Accuracy: {:.2f}%\".format(testscore * 100))"
   ]
  },
  {
   "cell_type": "code",
   "execution_count": 38,
   "id": "efdf5dbe-dcc0-4596-916e-940a90520928",
   "metadata": {},
   "outputs": [],
   "source": [
    "# import pandas as pd\n",
    "# from sklearn.model_selection import train_test_split\n",
    "# from sklearn.neighbors import KNeighborsClassifier\n",
    "\n",
    "# data = pd.read_csv('alzheimers_disease_data.csv')\n",
    "\n",
    "# features = data.drop(['Diagnosis', 'PatientID','DoctorInCharge'], axis=1) \n",
    "# target = data['Diagnosis']\n",
    "\n",
    "# X_train, X_test, y_train, y_test = train_test_split(features, target, test_size=0.2, random_state=1, stratify=target)\n",
    "\n",
    "# knn = KNeighborsClassifier(n_neighbors=10)  \n",
    "# knn.fit(X_train, y_train)\n",
    "\n",
    "# y_predict = knn.predict(X_test)\n",
    "# trainscore=knn.score(X_train, y_train)\n",
    "# testscore=knn.score(X_test, y_test)\n",
    "\n",
    "# print(\"Train accuracy: \", trainscore)\n",
    "# print(\"Test accuracy: \", testscore)"
   ]
  }
 ],
 "metadata": {
  "kernelspec": {
   "display_name": "Python 3 (ipykernel)",
   "language": "python",
   "name": "python3"
  },
  "language_info": {
   "codemirror_mode": {
    "name": "ipython",
    "version": 3
   },
   "file_extension": ".py",
   "mimetype": "text/x-python",
   "name": "python",
   "nbconvert_exporter": "python",
   "pygments_lexer": "ipython3",
   "version": "3.13.2"
  }
 },
 "nbformat": 4,
 "nbformat_minor": 5
}
